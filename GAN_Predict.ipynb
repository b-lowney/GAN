{
 "cells": [
  {
   "cell_type": "code",
   "execution_count": 1,
   "metadata": {},
   "outputs": [],
   "source": [
    "# GAN Used for predicting seismic data as part of Direct Diffraction Separation with Genarative Adversarial Networks\n",
    "# Code by Brydon Lowney (2020)\n",
    "# GAN portion of code was written with aid from machinelearningmastery.com"
   ]
  },
  {
   "cell_type": "code",
   "execution_count": 2,
   "metadata": {},
   "outputs": [
    {
     "name": "stderr",
     "output_type": "stream",
     "text": [
      "Using TensorFlow backend.\n"
     ]
    }
   ],
   "source": [
    "# Import modules used \n",
    "import numpy as np\n",
    "import os\n",
    "import datetime\n",
    "import segpy as spy\n",
    "import imageio\n",
    "import matplotlib.pyplot as plt\n",
    "import segyio\n",
    "from segpy.reader import create_reader\n",
    "from segpy.writer import write_segy\n",
    "from keras.models import load_model\n",
    "from numpy import load\n",
    "from numpy import vstack\n",
    "from matplotlib import pyplot\n",
    "from numpy.random import randint\n",
    "from PIL import Image\n",
    "from skimage import color\n",
    "from shutil import copyfile\n"
   ]
  },
  {
   "cell_type": "code",
   "execution_count": 3,
   "metadata": {},
   "outputs": [],
   "source": [
    "# Define parameters\n",
    "\n",
    "SEGYFILENAME  = '/home/addmin/machine_learning_dir/GAN_Git/SEISMIC/WR332a-stack.sgy' # Put in your input prediction segyfilename here\n",
    "IMAGEDIR = '/home/addmin/machine_learning_dir/GAN_Git/IMAGES/' # Put your desired image directory here make sure it ends in a /\n",
    "SEGYGENNAME = '/home/addmin/machine_learning_dir/GAN_Git/SEISMIC/W332a-gen.sgy' # The segy output\n",
    "MODEL = '/home/addmin/machine_learning_dir/GAN_Git/MODELS/model_475000.h5' # Put desired model here (with path)"
   ]
  },
  {
   "cell_type": "code",
   "execution_count": 4,
   "metadata": {},
   "outputs": [],
   "source": [
    "# Load the prediction data \n",
    "\n",
    "with open(SEGYFILENAME,'rb') as pre_in_file:\n",
    "    \n",
    "    t0 = datetime.datetime.now()\n",
    "    \n",
    "    pre_segy_dataset = create_reader(pre_in_file, endian='>')\n",
    "    \n",
    "    t1 = datetime.datetime.now()\n",
    "    \n",
    "    pretracefull = []\n",
    "    \n",
    "    for trace_index in pre_segy_dataset.trace_indexes():\n",
    "        pretrace = pre_segy_dataset.trace_samples(trace_index)\n",
    "        pretracetemp = []\n",
    "        for n in range(0,len(pretrace)):\n",
    "            temp = float(pretrace[n])\n",
    "            pretracetemp.append(temp)\n",
    "        pretracefull.append(pretracetemp)\n",
    "    \n",
    "    t2 = datetime.datetime.now()"
   ]
  },
  {
   "cell_type": "code",
   "execution_count": 5,
   "metadata": {},
   "outputs": [
    {
     "name": "stdout",
     "output_type": "stream",
     "text": [
      "Time to read headers: 0.237479 seconds\n",
      "Time to read traces: 76.974734 seconds\n",
      "Time to read both: 77.212213 seconds\n"
     ]
    }
   ],
   "source": [
    "# Check time to load \n",
    "\n",
    "time_for_header = (t1-t0).total_seconds()\n",
    "time_for_traces = (t2-t1).total_seconds()\n",
    "time_for_both = (t2-t0).total_seconds()\n",
    "\n",
    "print('Time to read headers: {} seconds'.format(time_for_header))\n",
    "print('Time to read traces: {} seconds'.format(time_for_traces))\n",
    "print('Time to read both: {} seconds'.format(time_for_both))"
   ]
  },
  {
   "cell_type": "code",
   "execution_count": 6,
   "metadata": {},
   "outputs": [
    {
     "name": "stdout",
     "output_type": "stream",
     "text": [
      "(4896, 5500)\n",
      "(5500, 4896)\n"
     ]
    }
   ],
   "source": [
    "# Convert the seismic to numpy array and rotate if necessary\n",
    "\n",
    "pretracefull = np.array(pretracefull)\n",
    "\n",
    "print(pretracefull.shape)\n",
    "\n",
    "pretracefull = np.rot90(pretracefull, 3)\n",
    "\n",
    "print(pretracefull.shape)"
   ]
  },
  {
   "cell_type": "code",
   "execution_count": 7,
   "metadata": {},
   "outputs": [
    {
     "name": "stdout",
     "output_type": "stream",
     "text": [
      "(5500, 4896)\n",
      "(5632, 5120)\n"
     ]
    }
   ],
   "source": [
    "# Make the size divisible by 256 so we don't lose any data \n",
    "\n",
    "seismic_size = pretracefull.shape\n",
    "seismic_y = seismic_size[0]\n",
    "seismic_x = seismic_size[1]\n",
    "\n",
    "mult_y = np.ceil(seismic_y/256)\n",
    "mult_x = np.ceil(seismic_x/256) # ceiling is used so it always rounds up\n",
    "\n",
    "mult_y = int(mult_y)\n",
    "mult_x = int(mult_x)\n",
    "\n",
    "new_y = mult_y*256\n",
    "new_x = mult_x*256\n",
    "\n",
    "newseismic = np.zeros((new_y,new_x))\n",
    "newseismic[0:seismic_y,0:seismic_x] = pretracefull\n",
    "\n",
    "print(seismic_size)\n",
    "print(np.shape(newseismic))"
   ]
  },
  {
   "cell_type": "code",
   "execution_count": 8,
   "metadata": {},
   "outputs": [],
   "source": [
    "# Make directories for the 256 x 256 size data for testing and save\n",
    "\n",
    "predictdir = os.path.join(IMAGEDIR,'predict/')\n",
    "\n",
    "if not os.path.exists(predictdir):\n",
    "    os.mkdir(predictdir)\n",
    "\n",
    "for y in range(0,(new_y-256),256):\n",
    "    for x in range(0,(new_x-256),256):\n",
    "        tra_256 = newseismic[y:y+256,x:x+256] \n",
    "\n",
    "        filenumber_y = str(y)\n",
    "        filenumber_x = str(x)\n",
    "\n",
    "        plt.imsave('{}predict_y{}_x{}.png'.format(predictdir, filenumber_y.zfill(5), filenumber_x.zfill(5)), tra_256, vmin=-5, vmax=5, cmap='Greys')\n"
   ]
  },
  {
   "cell_type": "code",
   "execution_count": 9,
   "metadata": {},
   "outputs": [],
   "source": [
    "# Reload seismic but as an image \n",
    "\n",
    "pre_filelist = []\n",
    "\n",
    "for y in range(0,(new_y-256),256):\n",
    "    for x in range(0,(new_x-256),256):\n",
    "        \n",
    "        filenumber_y = str(y)\n",
    "        filenumber_x = str(x)\n",
    "\n",
    "        pre_filelist.append('{}predict_y{}_x{}.png'.format(predictdir, filenumber_y.zfill(5), filenumber_x.zfill(5)))\n",
    "        \n",
    "pre_images = np.array([np.array(Image.open(fname)) for fname in pre_filelist])\n",
    "\n",
    "pre_images = pre_images[:,:,:,0:3]\n",
    "\n",
    "np.shape(pre_images)\n",
    "\n",
    "pre_images = (pre_images - 127.5) / 127.5\n"
   ]
  },
  {
   "cell_type": "code",
   "execution_count": null,
   "metadata": {},
   "outputs": [
    {
     "name": "stderr",
     "output_type": "stream",
     "text": [
      "/home/addmin/machine_learning_dir/neural_networks_env/lib/python3.6/site-packages/keras/engine/saving.py:341: UserWarning: No training configuration found in save file: the model was *not* compiled. Compile it manually.\n",
      "  warnings.warn('No training configuration found in save file: '\n"
     ]
    }
   ],
   "source": [
    "# load model\n",
    "\n",
    "model = load_model(MODEL)\n",
    "\n",
    "# generate image from source\n",
    "\n",
    "gen_images = model.predict(pre_images)"
   ]
  },
  {
   "cell_type": "code",
   "execution_count": null,
   "metadata": {},
   "outputs": [],
   "source": [
    "# Recalculate amplitudes so it fits on an RGB scale (0:1)\n",
    "\n",
    "gen_img_plot = (gen_images + 1) / 2\n",
    "pre_img_plot = (pre_images + 1) / 2 \n",
    "\n",
    "print(np.max(pre_images))\n",
    "\n",
    "fig, axes = pyplot.subplots(2, 1, figsize=(18, 18))\n",
    "axes[0].imshow(pre_img_plot[210], cmap='Greys')\n",
    "axes[1].imshow(gen_img_plot[210], cmap='Greys')"
   ]
  },
  {
   "cell_type": "code",
   "execution_count": null,
   "metadata": {},
   "outputs": [],
   "source": [
    "# Save the generated images\n",
    "\n",
    "i = 0\n",
    "\n",
    "gendir = os.path.join(IMAGEDIR,'generated/')\n",
    "\n",
    "if not os.path.exists(gendir):\n",
    "    os.mkdir(gendir)\n",
    "\n",
    "for y in range(0,(new_y-256),256):\n",
    "    for x in range(0,(new_x-256),256):\n",
    "        \n",
    "        filenumber_y = str(y)\n",
    "        filenumber_x = str(x)\n",
    "               \n",
    "        pyplot.imsave('{}generated_y{}_x{}.png'.format(gendir,filenumber_y.zfill(5), filenumber_x.zfill(5)), gen_img_plot[i], vmin=-500, vmax=500, cmap='Greys')\n",
    "        \n",
    "        i = i+1        "
   ]
  },
  {
   "cell_type": "code",
   "execution_count": null,
   "metadata": {},
   "outputs": [],
   "source": [
    "# Reconstruct the generated images by first loading them and centring around zero\n",
    "\n",
    "gen_image = np.zeros((new_y, new_x, 4))\n",
    "\n",
    "for y in range(0,(new_y-256),256):\n",
    "    for x in range(0,(new_x-256),256):\n",
    "        \n",
    "        filenumber_y = str(y)\n",
    "        filenumber_x = str(x)\n",
    "\n",
    "        gen_image_load = np.array(Image.open('{}generated_y{}_x{}.png'.format(gendir, filenumber_y.zfill(5), filenumber_x.zfill(5))))\n",
    "        \n",
    "        gen_image[y:y+256, x:x+256, :] = gen_image_load\n",
    "\n",
    "gen_image = (gen_image - 127.5) / 127.5\n",
    "gen_image = gen_image[0:seismic_y,0:seismic_x]\n",
    "gen_img_plot = (gen_image + 1) / 2\n",
    "\n",
    "np.shape(gen_image)"
   ]
  },
  {
   "cell_type": "code",
   "execution_count": null,
   "metadata": {},
   "outputs": [],
   "source": [
    "# Save the full image into the gen directory\n",
    "\n",
    "plt.imsave('{}/full_generated_image.png'.format(gendir), gen_img_plot, cmap='Greys')"
   ]
  },
  {
   "cell_type": "code",
   "execution_count": null,
   "metadata": {},
   "outputs": [],
   "source": [
    "# Convert to amplitude (centred around 0) and save to segy\n",
    "\n",
    "gen_seis = color.rgb2gray(gen_image)\n",
    "\n",
    "gen_seis = np.rot90(gen_seis)\n",
    "\n",
    "datasets = [gen_seis]\n",
    "\n",
    "# Save the new data\n",
    "\n",
    "\n",
    "input_file = SEGYFILENAME\n",
    "output_file = SEGYGENNAME\n",
    "\n",
    "with segyio.open(input_file, ignore_geometry=True) as src:\n",
    "    spec = segyio.spec()\n",
    "    spec.sorting = src.sorting\n",
    "    spec.format = src.format\n",
    "    spec.samples = src.samples\n",
    "    spec.ilines = src.ilines\n",
    "    spec.xlines = src.xlines\n",
    "    spec.tracecount = seismic_x\n",
    "    with segyio.create(output_file, spec) as dst:\n",
    "        dst.text[0] = src.text[0]\n",
    "        dst.bin = src.bin\n",
    "        dst.header = src.header\n",
    "        dst.trace = datasets"
   ]
  },
  {
   "cell_type": "code",
   "execution_count": null,
   "metadata": {},
   "outputs": [],
   "source": []
  }
 ],
 "metadata": {
  "kernelspec": {
   "display_name": "Python 3",
   "language": "python",
   "name": "python3"
  },
  "language_info": {
   "codemirror_mode": {
    "name": "ipython",
    "version": 3
   },
   "file_extension": ".py",
   "mimetype": "text/x-python",
   "name": "python",
   "nbconvert_exporter": "python",
   "pygments_lexer": "ipython3",
   "version": "3.6.8"
  }
 },
 "nbformat": 4,
 "nbformat_minor": 2
}
